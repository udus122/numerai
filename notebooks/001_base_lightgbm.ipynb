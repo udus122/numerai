{
 "cells": [
  {
   "cell_type": "markdown",
   "id": "direct-climate",
   "metadata": {},
   "source": [
    "# LightGBM baseline model"
   ]
  },
  {
   "cell_type": "markdown",
   "id": "ultimate-running",
   "metadata": {},
   "source": [
    "## Overview\n",
    "\n",
    "Inspired by [How to get started with Numerai | Kaggle](https://www.kaggle.com/carlolepelaars/how-to-get-started-with-numerai).\n",
    "\n",
    "Not using Weights and Biases but using only LightGBM"
   ]
  },
  {
   "cell_type": "markdown",
   "id": "subtle-energy",
   "metadata": {},
   "source": [
    "## Libraries"
   ]
  },
  {
   "cell_type": "code",
   "execution_count": 1,
   "id": "innovative-consent",
   "metadata": {},
   "outputs": [],
   "source": [
    "import os\n",
    "import random as rn\n",
    "\n",
    "import lightgbm as lgb\n",
    "import matplotlib.pyplot as plt\n",
    "\n",
    "# Initialize Numerai's API\n",
    "import numerapi\n",
    "import numpy as np\n",
    "import pandas as pd\n",
    "import seaborn as sns\n",
    "from IPython.display import display\n",
    "from scipy.stats import spearmanr\n",
    "from sklearn.model_selection import GridSearchCV\n",
    "\n",
    "from code import config\n",
    "from libs.data import download_current_data, load_data\n",
    "from libs.features import get_group_stats\n",
    "from libs.libs.metrics import evaluate, sharpe_ratio"
   ]
  },
  {
   "cell_type": "code",
   "execution_count": 2,
   "id": "adjusted-expansion",
   "metadata": {},
   "outputs": [],
   "source": [
    "napi = numerapi.NumerAPI(verbosity=\"info\")"
   ]
  },
  {
   "cell_type": "markdown",
   "id": "delayed-zimbabwe",
   "metadata": {},
   "source": [
    "## Data processing"
   ]
  },
  {
   "cell_type": "code",
   "execution_count": 3,
   "id": "welsh-divorce",
   "metadata": {},
   "outputs": [
    {
     "output_type": "stream",
     "name": "stdout",
     "text": [
      "You already have the newest data! Current round is: 263\nLoading the data\n"
     ]
    }
   ],
   "source": [
    "download_current_data(str(config.DATA_DIR))\n",
    "\n",
    "train, val, test = load_data(str(config.DATA_DIR), reduce_memory=True)"
   ]
  },
  {
   "cell_type": "markdown",
   "id": "failing-clause",
   "metadata": {},
   "source": [
    "## EDA"
   ]
  },
  {
   "cell_type": "code",
   "execution_count": null,
   "id": "traditional-bundle",
   "metadata": {},
   "outputs": [],
   "source": [
    "test"
   ]
  },
  {
   "cell_type": "code",
   "execution_count": 4,
   "id": "optimum-manor",
   "metadata": {},
   "outputs": [
    {
     "name": "stdout",
     "output_type": "stream",
     "text": [
      "Training data:\n"
     ]
    },
    {
     "data": {
      "text/html": [
       "<div>\n",
       "<style scoped>\n",
       "    .dataframe tbody tr th:only-of-type {\n",
       "        vertical-align: middle;\n",
       "    }\n",
       "\n",
       "    .dataframe tbody tr th {\n",
       "        vertical-align: top;\n",
       "    }\n",
       "\n",
       "    .dataframe thead th {\n",
       "        text-align: right;\n",
       "    }\n",
       "</style>\n",
       "<table border=\"1\" class=\"dataframe\">\n",
       "  <thead>\n",
       "    <tr style=\"text-align: right;\">\n",
       "      <th></th>\n",
       "      <th>id</th>\n",
       "      <th>era</th>\n",
       "      <th>data_type</th>\n",
       "      <th>feature_intelligence1</th>\n",
       "      <th>feature_intelligence2</th>\n",
       "      <th>feature_intelligence3</th>\n",
       "      <th>feature_intelligence4</th>\n",
       "      <th>feature_intelligence5</th>\n",
       "      <th>feature_intelligence6</th>\n",
       "      <th>feature_intelligence7</th>\n",
       "      <th>...</th>\n",
       "      <th>feature_wisdom38</th>\n",
       "      <th>feature_wisdom39</th>\n",
       "      <th>feature_wisdom40</th>\n",
       "      <th>feature_wisdom41</th>\n",
       "      <th>feature_wisdom42</th>\n",
       "      <th>feature_wisdom43</th>\n",
       "      <th>feature_wisdom44</th>\n",
       "      <th>feature_wisdom45</th>\n",
       "      <th>feature_wisdom46</th>\n",
       "      <th>target</th>\n",
       "    </tr>\n",
       "  </thead>\n",
       "  <tbody>\n",
       "    <tr>\n",
       "      <th>0</th>\n",
       "      <td>n000315175b67977</td>\n",
       "      <td>era1</td>\n",
       "      <td>train</td>\n",
       "      <td>0.0</td>\n",
       "      <td>0.5</td>\n",
       "      <td>0.25</td>\n",
       "      <td>0.00</td>\n",
       "      <td>0.5</td>\n",
       "      <td>0.25</td>\n",
       "      <td>0.25</td>\n",
       "      <td>...</td>\n",
       "      <td>1.0</td>\n",
       "      <td>1.0</td>\n",
       "      <td>0.75</td>\n",
       "      <td>0.5</td>\n",
       "      <td>0.75</td>\n",
       "      <td>0.50</td>\n",
       "      <td>1.0</td>\n",
       "      <td>0.50</td>\n",
       "      <td>0.75</td>\n",
       "      <td>0.50</td>\n",
       "    </tr>\n",
       "    <tr>\n",
       "      <th>1</th>\n",
       "      <td>n0014af834a96cdd</td>\n",
       "      <td>era1</td>\n",
       "      <td>train</td>\n",
       "      <td>0.0</td>\n",
       "      <td>0.0</td>\n",
       "      <td>0.00</td>\n",
       "      <td>0.25</td>\n",
       "      <td>0.5</td>\n",
       "      <td>0.00</td>\n",
       "      <td>0.00</td>\n",
       "      <td>...</td>\n",
       "      <td>1.0</td>\n",
       "      <td>1.0</td>\n",
       "      <td>0.00</td>\n",
       "      <td>0.0</td>\n",
       "      <td>0.75</td>\n",
       "      <td>0.25</td>\n",
       "      <td>0.0</td>\n",
       "      <td>0.25</td>\n",
       "      <td>1.00</td>\n",
       "      <td>0.25</td>\n",
       "    </tr>\n",
       "  </tbody>\n",
       "</table>\n",
       "<p>2 rows × 314 columns</p>\n",
       "</div>"
      ],
      "text/plain": [
       "                 id   era data_type  feature_intelligence1  \\\n",
       "0  n000315175b67977  era1     train                    0.0   \n",
       "1  n0014af834a96cdd  era1     train                    0.0   \n",
       "\n",
       "   feature_intelligence2  feature_intelligence3  feature_intelligence4  \\\n",
       "0                    0.5                   0.25                   0.00   \n",
       "1                    0.0                   0.00                   0.25   \n",
       "\n",
       "   feature_intelligence5  feature_intelligence6  feature_intelligence7  ...  \\\n",
       "0                    0.5                   0.25                   0.25  ...   \n",
       "1                    0.5                   0.00                   0.00  ...   \n",
       "\n",
       "   feature_wisdom38  feature_wisdom39  feature_wisdom40  feature_wisdom41  \\\n",
       "0               1.0               1.0              0.75               0.5   \n",
       "1               1.0               1.0              0.00               0.0   \n",
       "\n",
       "   feature_wisdom42  feature_wisdom43  feature_wisdom44  feature_wisdom45  \\\n",
       "0              0.75              0.50               1.0              0.50   \n",
       "1              0.75              0.25               0.0              0.25   \n",
       "\n",
       "   feature_wisdom46  target  \n",
       "0              0.75    0.50  \n",
       "1              1.00    0.25  \n",
       "\n",
       "[2 rows x 314 columns]"
      ]
     },
     "metadata": {},
     "output_type": "display_data"
    },
    {
     "name": "stdout",
     "output_type": "stream",
     "text": [
      "Test data:\n"
     ]
    },
    {
     "data": {
      "text/html": [
       "<div>\n",
       "<style scoped>\n",
       "    .dataframe tbody tr th:only-of-type {\n",
       "        vertical-align: middle;\n",
       "    }\n",
       "\n",
       "    .dataframe tbody tr th {\n",
       "        vertical-align: top;\n",
       "    }\n",
       "\n",
       "    .dataframe thead th {\n",
       "        text-align: right;\n",
       "    }\n",
       "</style>\n",
       "<table border=\"1\" class=\"dataframe\">\n",
       "  <thead>\n",
       "    <tr style=\"text-align: right;\">\n",
       "      <th></th>\n",
       "      <th>id</th>\n",
       "      <th>era</th>\n",
       "      <th>data_type</th>\n",
       "      <th>feature_intelligence1</th>\n",
       "      <th>feature_intelligence2</th>\n",
       "      <th>feature_intelligence3</th>\n",
       "      <th>feature_intelligence4</th>\n",
       "      <th>feature_intelligence5</th>\n",
       "      <th>feature_intelligence6</th>\n",
       "      <th>feature_intelligence7</th>\n",
       "      <th>...</th>\n",
       "      <th>feature_wisdom38</th>\n",
       "      <th>feature_wisdom39</th>\n",
       "      <th>feature_wisdom40</th>\n",
       "      <th>feature_wisdom41</th>\n",
       "      <th>feature_wisdom42</th>\n",
       "      <th>feature_wisdom43</th>\n",
       "      <th>feature_wisdom44</th>\n",
       "      <th>feature_wisdom45</th>\n",
       "      <th>feature_wisdom46</th>\n",
       "      <th>target</th>\n",
       "    </tr>\n",
       "  </thead>\n",
       "  <tbody>\n",
       "    <tr>\n",
       "      <th>0</th>\n",
       "      <td>n0003aa52cab36c2</td>\n",
       "      <td>era121</td>\n",
       "      <td>validation</td>\n",
       "      <td>0.25</td>\n",
       "      <td>0.75</td>\n",
       "      <td>0.50</td>\n",
       "      <td>0.5</td>\n",
       "      <td>0.0</td>\n",
       "      <td>0.75</td>\n",
       "      <td>0.5</td>\n",
       "      <td>...</td>\n",
       "      <td>0.75</td>\n",
       "      <td>0.75</td>\n",
       "      <td>1.00</td>\n",
       "      <td>0.75</td>\n",
       "      <td>0.50</td>\n",
       "      <td>0.5</td>\n",
       "      <td>1.0</td>\n",
       "      <td>0.0</td>\n",
       "      <td>0.0</td>\n",
       "      <td>0.25</td>\n",
       "    </tr>\n",
       "    <tr>\n",
       "      <th>1</th>\n",
       "      <td>n000920ed083903f</td>\n",
       "      <td>era121</td>\n",
       "      <td>validation</td>\n",
       "      <td>0.75</td>\n",
       "      <td>0.50</td>\n",
       "      <td>0.75</td>\n",
       "      <td>1.0</td>\n",
       "      <td>0.5</td>\n",
       "      <td>0.00</td>\n",
       "      <td>0.0</td>\n",
       "      <td>...</td>\n",
       "      <td>0.50</td>\n",
       "      <td>0.50</td>\n",
       "      <td>0.75</td>\n",
       "      <td>1.00</td>\n",
       "      <td>0.75</td>\n",
       "      <td>0.5</td>\n",
       "      <td>0.5</td>\n",
       "      <td>0.5</td>\n",
       "      <td>0.5</td>\n",
       "      <td>0.50</td>\n",
       "    </tr>\n",
       "  </tbody>\n",
       "</table>\n",
       "<p>2 rows × 314 columns</p>\n",
       "</div>"
      ],
      "text/plain": [
       "                 id     era   data_type  feature_intelligence1  \\\n",
       "0  n0003aa52cab36c2  era121  validation                   0.25   \n",
       "1  n000920ed083903f  era121  validation                   0.75   \n",
       "\n",
       "   feature_intelligence2  feature_intelligence3  feature_intelligence4  \\\n",
       "0                   0.75                   0.50                    0.5   \n",
       "1                   0.50                   0.75                    1.0   \n",
       "\n",
       "   feature_intelligence5  feature_intelligence6  feature_intelligence7  ...  \\\n",
       "0                    0.0                   0.75                    0.5  ...   \n",
       "1                    0.5                   0.00                    0.0  ...   \n",
       "\n",
       "   feature_wisdom38  feature_wisdom39  feature_wisdom40  feature_wisdom41  \\\n",
       "0              0.75              0.75              1.00              0.75   \n",
       "1              0.50              0.50              0.75              1.00   \n",
       "\n",
       "   feature_wisdom42  feature_wisdom43  feature_wisdom44  feature_wisdom45  \\\n",
       "0              0.50               0.5               1.0               0.0   \n",
       "1              0.75               0.5               0.5               0.5   \n",
       "\n",
       "   feature_wisdom46  target  \n",
       "0               0.0    0.25  \n",
       "1               0.5    0.50  \n",
       "\n",
       "[2 rows x 314 columns]"
      ]
     },
     "metadata": {},
     "output_type": "display_data"
    }
   ],
   "source": [
    "print(\"Training data:\")\n",
    "display(train.head(2))\n",
    "print(\"Test data:\")\n",
    "display(test.head(2))"
   ]
  },
  {
   "cell_type": "code",
   "execution_count": 5,
   "id": "registered-coverage",
   "metadata": {},
   "outputs": [
    {
     "name": "stdout",
     "output_type": "stream",
     "text": [
      "Training set info:\n",
      "<class 'pandas.core.frame.DataFrame'>\n",
      "RangeIndex: 501808 entries, 0 to 501807\n",
      "Columns: 314 entries, id to target\n",
      "dtypes: float32(310), float64(1), object(3)\n",
      "memory usage: 608.7+ MB\n"
     ]
    }
   ],
   "source": [
    "print(\"Training set info:\")\n",
    "train.info()"
   ]
  },
  {
   "cell_type": "code",
   "execution_count": 6,
   "id": "binding-armstrong",
   "metadata": {},
   "outputs": [
    {
     "name": "stdout",
     "output_type": "stream",
     "text": [
      "Test set info:\n",
      "<class 'pandas.core.frame.DataFrame'>\n",
      "RangeIndex: 1644415 entries, 0 to 1644414\n",
      "Columns: 314 entries, id to target\n",
      "dtypes: float32(310), float64(1), object(3)\n",
      "memory usage: 1.9+ GB\n"
     ]
    }
   ],
   "source": [
    "print(\"Test set info:\")\n",
    "test.info()"
   ]
  },
  {
   "cell_type": "code",
   "execution_count": 1,
   "id": "regular-british",
   "metadata": {},
   "outputs": [
    {
     "ename": "NameError",
     "evalue": "name 'test' is not defined",
     "output_type": "error",
     "traceback": [
      "\u001b[0;31m---------------------------------------------------------------------------\u001b[0m",
      "\u001b[0;31mNameError\u001b[0m                                 Traceback (most recent call last)",
      "\u001b[0;32m<ipython-input-1-894abddf34a7>\u001b[0m in \u001b[0;36m<module>\u001b[0;34m\u001b[0m\n\u001b[0;32m----> 1\u001b[0;31m \u001b[0mtest\u001b[0m\u001b[0;34m.\u001b[0m\u001b[0mdata_type\u001b[0m\u001b[0;34m\u001b[0m\u001b[0;34m\u001b[0m\u001b[0m\n\u001b[0m",
      "\u001b[0;31mNameError\u001b[0m: name 'test' is not defined"
     ]
    }
   ],
   "source": [
    "test.data_type"
   ]
  },
  {
   "cell_type": "code",
   "execution_count": 7,
   "id": "exciting-collector",
   "metadata": {},
   "outputs": [
    {
     "data": {
      "image/png": "[encoded data removed]",
      "text/plain": [
       "<Figure size 1008x576 with 1 Axes>"
      ]
     },
     "metadata": {
      "needs_background": "light"
     },
     "output_type": "display_data"
    }
   ],
   "source": [
    "# Extract era numbers\n",
    "train[\"erano\"] = train.era.str.slice(3).astype(int)\n",
    "plt.figure(figsize=[14, 6])\n",
    "train.groupby(train[\"erano\"])[\"target\"].size().plot(\n",
    "    title=\"Era sizes\", figsize=(14, 8)\n",
    ");"
   ]
  },
  {
   "cell_type": "markdown",
   "id": "metallic-painting",
   "metadata": {},
   "source": [
    "Eraごとにサンプル数が異なることも考慮して特徴量を作成することができるかもしれない。"
   ]
  },
  {
   "cell_type": "code",
   "execution_count": 8,
   "id": "median-stations",
   "metadata": {},
   "outputs": [
    {
     "data": {
      "text/html": [
       "<div>\n",
       "<style scoped>\n",
       "    .dataframe tbody tr th:only-of-type {\n",
       "        vertical-align: middle;\n",
       "    }\n",
       "\n",
       "    .dataframe tbody tr th {\n",
       "        vertical-align: top;\n",
       "    }\n",
       "\n",
       "    .dataframe thead th {\n",
       "        text-align: right;\n",
       "    }\n",
       "</style>\n",
       "<table border=\"1\" class=\"dataframe\">\n",
       "  <thead>\n",
       "    <tr style=\"text-align: right;\">\n",
       "      <th></th>\n",
       "      <th>feature_intelligence1</th>\n",
       "      <th>feature_intelligence2</th>\n",
       "      <th>feature_intelligence3</th>\n",
       "      <th>feature_intelligence4</th>\n",
       "      <th>feature_intelligence5</th>\n",
       "      <th>feature_intelligence6</th>\n",
       "      <th>feature_intelligence7</th>\n",
       "      <th>feature_intelligence8</th>\n",
       "      <th>feature_intelligence9</th>\n",
       "      <th>feature_intelligence10</th>\n",
       "      <th>...</th>\n",
       "      <th>feature_wisdom37</th>\n",
       "      <th>feature_wisdom38</th>\n",
       "      <th>feature_wisdom39</th>\n",
       "      <th>feature_wisdom40</th>\n",
       "      <th>feature_wisdom41</th>\n",
       "      <th>feature_wisdom42</th>\n",
       "      <th>feature_wisdom43</th>\n",
       "      <th>feature_wisdom44</th>\n",
       "      <th>feature_wisdom45</th>\n",
       "      <th>feature_wisdom46</th>\n",
       "    </tr>\n",
       "  </thead>\n",
       "  <tbody>\n",
       "    <tr>\n",
       "      <th>0</th>\n",
       "      <td>0.353596</td>\n",
       "      <td>0.353593</td>\n",
       "      <td>0.353593</td>\n",
       "      <td>0.353596</td>\n",
       "      <td>0.353587</td>\n",
       "      <td>0.353587</td>\n",
       "      <td>0.353587</td>\n",
       "      <td>0.353596</td>\n",
       "      <td>0.352099</td>\n",
       "      <td>0.352099</td>\n",
       "      <td>...</td>\n",
       "      <td>0.352772</td>\n",
       "      <td>0.353139</td>\n",
       "      <td>0.353139</td>\n",
       "      <td>0.351328</td>\n",
       "      <td>0.350662</td>\n",
       "      <td>0.352151</td>\n",
       "      <td>0.352965</td>\n",
       "      <td>0.351328</td>\n",
       "      <td>0.347689</td>\n",
       "      <td>0.353419</td>\n",
       "    </tr>\n",
       "  </tbody>\n",
       "</table>\n",
       "<p>1 rows × 310 columns</p>\n",
       "</div>"
      ],
      "text/plain": [
       "   feature_intelligence1  feature_intelligence2  feature_intelligence3  \\\n",
       "0               0.353596               0.353593               0.353593   \n",
       "\n",
       "   feature_intelligence4  feature_intelligence5  feature_intelligence6  \\\n",
       "0               0.353596               0.353587               0.353587   \n",
       "\n",
       "   feature_intelligence7  feature_intelligence8  feature_intelligence9  \\\n",
       "0               0.353587               0.353596               0.352099   \n",
       "\n",
       "   feature_intelligence10  ...  feature_wisdom37  feature_wisdom38  \\\n",
       "0                0.352099  ...          0.352772          0.353139   \n",
       "\n",
       "   feature_wisdom39  feature_wisdom40  feature_wisdom41  feature_wisdom42  \\\n",
       "0          0.353139          0.351328          0.350662          0.352151   \n",
       "\n",
       "   feature_wisdom43  feature_wisdom44  feature_wisdom45  feature_wisdom46  \n",
       "0          0.352965          0.351328          0.347689          0.353419  \n",
       "\n",
       "[1 rows x 310 columns]"
      ]
     },
     "execution_count": 8,
     "metadata": {},
     "output_type": "execute_result"
    }
   ],
   "source": [
    "feats = [f for f in train.columns if \"feature\" in f]\n",
    "pd.DataFrame(train[feats].std()).T"
   ]
  },
  {
   "cell_type": "code",
   "execution_count": 9,
   "id": "integrated-obligation",
   "metadata": {},
   "outputs": [
    {
     "data": {
      "image/png": "[encoded data removed]",
      "text/plain": [
       "<Figure size 1080x360 with 1 Axes>"
      ]
     },
     "metadata": {
      "needs_background": "light"
     },
     "output_type": "display_data"
    }
   ],
   "source": [
    "feats = [f for f in train.columns if \"feature\" in f]\n",
    "plt.figure(figsize=(15, 5))\n",
    "sns.histplot(\n",
    "    pd.DataFrame(train[feats].std()), bins=100, kde=True, palette=\"Blues\"\n",
    ")\n",
    "sns.histplot(pd.DataFrame(val[feats].std()), bins=100, kde=True, palette=\"Reds\")\n",
    "sns.histplot(\n",
    "    pd.DataFrame(test[feats].std()), bins=100, kde=True, palette=\"Greens\"\n",
    ")\n",
    "plt.legend([\"Train\", \"Val\", \"Test\"], fontsize=20)\n",
    "plt.title(\n",
    "    \"Standard deviations over all features in the data\",\n",
    "    weight=\"bold\",\n",
    "    fontsize=20,\n",
    ")\n",
    "plt.show()"
   ]
  },
  {
   "cell_type": "markdown",
   "id": "periodic-newman",
   "metadata": {},
   "source": [
    "ほとんどの特徴量は同じようなばらつきを持っているが、ごく一部の特徴量はとてもばらつきが小さいのでニューラルネットや回帰系のモデルを使う場合は、標準化や特徴量の削除を考える必要がありそう"
   ]
  },
  {
   "cell_type": "markdown",
   "id": "restricted-connectivity",
   "metadata": {},
   "source": [
    "## Feature engineering"
   ]
  },
  {
   "cell_type": "code",
   "execution_count": 10,
   "id": "corresponding-melbourne",
   "metadata": {},
   "outputs": [
    {
     "name": "stderr",
     "output_type": "stream",
     "text": [
      "/usr/local/lib/python3.8/site-packages/pandas/core/indexing.py:1597: SettingWithCopyWarning: \n",
      "A value is trying to be set on a copy of a slice from a DataFrame.\n",
      "Try using .loc[row_indexer,col_indexer] = value instead\n",
      "\n",
      "See the caveats in the documentation: https://pandas.pydata.org/pandas-docs/stable/user_guide/indexing.html#returning-a-view-versus-a-copy\n",
      "  self.obj[key] = value\n",
      "/usr/local/lib/python3.8/site-packages/pandas/core/indexing.py:1676: SettingWithCopyWarning: \n",
      "A value is trying to be set on a copy of a slice from a DataFrame.\n",
      "Try using .loc[row_indexer,col_indexer] = value instead\n",
      "\n",
      "See the caveats in the documentation: https://pandas.pydata.org/pandas-docs/stable/user_guide/indexing.html#returning-a-view-versus-a-copy\n",
      "  self._setitem_single_column(ilocs[0], value, pi)\n"
     ]
    }
   ],
   "source": [
    "# Add group statistics features\n",
    "train = get_group_stats(train)\n",
    "val = get_group_stats(val)\n",
    "test = get_group_stats(test)"
   ]
  },
  {
   "cell_type": "markdown",
   "id": "mounted-investor",
   "metadata": {},
   "source": [
    "## Feature Selection"
   ]
  },
  {
   "cell_type": "markdown",
   "id": "random-march",
   "metadata": {},
   "source": [
    "特徴量とターゲットの相関係数は一番高いもので、0.01ほどである。\n",
    "有効な特徴量やera(時点)を見つけることは良いモデルを作成するために大事。\n",
    "\n",
    "numeraiのデータセットは非定常データであり、特徴量の重要度は時間の経過とともに変わっていく。\n",
    "\n",
    "そのため、目的変数と説明変数の相関性だけではなく、feature exposure(時間が経過しても、特徴量が予測に役立っていることを表す指標)も考える必要がある。  \n",
    "PCAなどで次元を削減したり、重要度の高い説明変数のみを抽出することで予測の精度を高めることができる。"
   ]
  },
  {
   "cell_type": "code",
   "execution_count": 11,
   "id": "acoustic-brief",
   "metadata": {},
   "outputs": [],
   "source": [
    "# Calculate correlations with target\n",
    "full_corr = train.corr()\n",
    "corr_with_target = full_corr[\"target\"].T.apply(abs).sort_values(ascending=False)\n",
    "\n",
    "# Select features with highest correlation to the target variable\n",
    "features = corr_with_target[:150]\n",
    "features.drop(\"target\", inplace=True)"
   ]
  },
  {
   "cell_type": "code",
   "execution_count": 12,
   "id": "strong-authority",
   "metadata": {},
   "outputs": [],
   "source": [
    "# Create list of most correlated features\n",
    "feature_list = features.index.tolist()"
   ]
  },
  {
   "cell_type": "code",
   "execution_count": 13,
   "id": "chronic-minority",
   "metadata": {},
   "outputs": [
    {
     "data": {
      "text/plain": [
       "target                    1.000000\n",
       "feature_charisma_mean     0.013717\n",
       "feature_charisma_skew     0.013131\n",
       "feature_strength34        0.012310\n",
       "feature_dexterity7        0.012175\n",
       "                            ...   \n",
       "feature_strength37        0.000141\n",
       "feature_intelligence9     0.000098\n",
       "erano                     0.000093\n",
       "feature_constitution23    0.000042\n",
       "feature_constitution74    0.000007\n",
       "Name: target, Length: 330, dtype: float64"
      ]
     },
     "execution_count": 13,
     "metadata": {},
     "output_type": "execute_result"
    }
   ],
   "source": [
    "full_corr.target.apply(abs).sort_values(ascending=False)"
   ]
  },
  {
   "cell_type": "markdown",
   "id": "attempted-citation",
   "metadata": {},
   "source": [
    "## Modeling (using LightGBM)"
   ]
  },
  {
   "cell_type": "code",
   "execution_count": 14,
   "id": "local-perry",
   "metadata": {},
   "outputs": [],
   "source": [
    "grid_params = {\n",
    "    \"num_leaves\": [30, 40, 50],\n",
    "    \"max_depth\": [4, 5, 6, 7],\n",
    "    \"learning_rate\": [0.1, 0.05, 0.01],\n",
    "    \"bagging_freq\": [7],\n",
    "    \"bagging_fraction\": [0.6, 0.7, 0.8],\n",
    "    \"feature_fraction\": [0.85, 0.75, 0.65],\n",
    "}"
   ]
  },
  {
   "cell_type": "code",
   "execution_count": null,
   "id": "frequent-honey",
   "metadata": {},
   "outputs": [
    {
     "name": "stdout",
     "output_type": "stream",
     "text": [
      "Fitting 4 folds for each of 324 candidates, totalling 1296 fits\n"
     ]
    }
   ],
   "source": [
    "lgbm = lgb.LGBMRegressor()\n",
    "\n",
    "grid = GridSearchCV(lgbm, grid_params, verbose=10, cv=4, n_jobs=-1)\n",
    "\n",
    "grid.fit(train[feature_list], train[\"target\"])"
   ]
  },
  {
   "cell_type": "code",
   "execution_count": 20,
   "id": "inner-canadian",
   "metadata": {},
   "outputs": [],
   "source": [
    "grs = grid.best_estimator_\n",
    "grs.fit(train[feature_list], train[\"target\"])\n",
    "\n",
    "train.loc[:, \"prediction\"] = grs.predict(train[feature_list])\n",
    "val.loc[:, \"prediction\"] = grs.predict(val[feature_list])"
   ]
  },
  {
   "cell_type": "markdown",
   "id": "married-liberia",
   "metadata": {},
   "source": [
    "## Evaluation"
   ]
  },
  {
   "cell_type": "code",
   "execution_count": 21,
   "id": "prepared-duration",
   "metadata": {},
   "outputs": [
    {
     "name": "stdout",
     "output_type": "stream",
     "text": [
      "--- Final Training Scores ---\n",
      "Spearman Correlation: 0.1077\n",
      "Average Payout: 0.5385\n",
      "Sharpe Ratio: 3.248\n",
      "Mean Absolute Error (MAE): 0.1522\n",
      "\n",
      "--- Final Validation Scores ---\n",
      "Spearman Correlation: 0.0196\n",
      "Average Payout: 0.0979\n",
      "Sharpe Ratio: 0.6809\n",
      "Mean Absolute Error (MAE): 0.1531\n"
     ]
    }
   ],
   "source": [
    "# Evaluate Model\n",
    "print(\"--- Final Training Scores ---\")\n",
    "spearman, payout, numerai_sharpe, mae = evaluate(train)\n",
    "print(\"\\n--- Final Validation Scores ---\")\n",
    "spearman, payout, numerai_sharpe, mae = evaluate(val)"
   ]
  },
  {
   "cell_type": "code",
   "execution_count": 24,
   "id": "likely-omaha",
   "metadata": {},
   "outputs": [],
   "source": [
    "# Calculate feature exposure\n",
    "all_features = [col for col in train.columns if \"feature\" in col]\n",
    "feature_spearman_val = [\n",
    "    spearmanr(val[\"prediction\"], val[f])[0] for f in all_features\n",
    "]\n",
    "feature_exposure_val = np.std(feature_spearman_val).round(4)"
   ]
  },
  {
   "cell_type": "markdown",
   "id": "polished-plumbing",
   "metadata": {},
   "source": [
    "## Submission"
   ]
  },
  {
   "cell_type": "code",
   "execution_count": 29,
   "id": "cardiac-modem",
   "metadata": {},
   "outputs": [],
   "source": [
    "# Initialize API with API Keys\n",
    "napi = numerapi.NumerAPI(\n",
    "    public_id=config.NUMERAI_PUBLIC,\n",
    "    secret_key=config.NUMERAI_SECRET,\n",
    "    verbosity=\"info\",\n",
    ")\n",
    "# Upload predictions for current round\n",
    "test.loc[:, \"prediction\"] = grs.predict(test[feature_list])\n",
    "test[[\"id\", \"prediction\"]].to_csv(\"submission.csv\", index=False)"
   ]
  },
  {
   "cell_type": "code",
   "execution_count": 31,
   "id": "wooden-yugoslavia",
   "metadata": {},
   "outputs": [
    {
     "name": "stderr",
     "output_type": "stream",
     "text": [
      "2021-02-13 08:46:57,644 INFO numerapi.base_api: uploading predictions...\n",
      "2021-02-13 08:48:36,763 ERROR numerapi.base_api: Can't update submission after deadline if previous submission was on time\n"
     ]
    },
    {
     "ename": "ValueError",
     "evalue": "Can't update submission after deadline if previous submission was on time",
     "output_type": "error",
     "traceback": [
      "\u001b[0;31m---------------------------------------------------------------------------\u001b[0m",
      "\u001b[0;31mValueError\u001b[0m                                Traceback (most recent call last)",
      "\u001b[0;32m<ipython-input-31-4b92ec8ef8dd>\u001b[0m in \u001b[0;36m<module>\u001b[0;34m\u001b[0m\n\u001b[1;32m      1\u001b[0m \u001b[0;31m# Upload predictions to Numerai\u001b[0m\u001b[0;34m\u001b[0m\u001b[0;34m\u001b[0m\u001b[0;34m\u001b[0m\u001b[0m\n\u001b[0;32m----> 2\u001b[0;31m \u001b[0mnapi\u001b[0m\u001b[0;34m.\u001b[0m\u001b[0mupload_predictions\u001b[0m\u001b[0;34m(\u001b[0m\u001b[0;34m\"submission.csv\"\u001b[0m\u001b[0;34m)\u001b[0m\u001b[0;34m\u001b[0m\u001b[0;34m\u001b[0m\u001b[0m\n\u001b[0m",
      "\u001b[0;32m/usr/local/lib/python3.8/site-packages/numerapi/numerapi.py\u001b[0m in \u001b[0;36mupload_predictions\u001b[0;34m(self, file_path, code, model_id)\u001b[0m\n\u001b[1;32m   1054\u001b[0m                      \u001b[0;34m'code'\u001b[0m\u001b[0;34m:\u001b[0m \u001b[0mcode\u001b[0m\u001b[0;34m,\u001b[0m\u001b[0;34m\u001b[0m\u001b[0;34m\u001b[0m\u001b[0m\n\u001b[1;32m   1055\u001b[0m                      'modelId': model_id}\n\u001b[0;32m-> 1056\u001b[0;31m         \u001b[0mcreate\u001b[0m \u001b[0;34m=\u001b[0m \u001b[0mself\u001b[0m\u001b[0;34m.\u001b[0m\u001b[0mraw_query\u001b[0m\u001b[0;34m(\u001b[0m\u001b[0mcreate_query\u001b[0m\u001b[0;34m,\u001b[0m \u001b[0marguments\u001b[0m\u001b[0;34m,\u001b[0m \u001b[0mauthorization\u001b[0m\u001b[0;34m=\u001b[0m\u001b[0;32mTrue\u001b[0m\u001b[0;34m)\u001b[0m\u001b[0;34m\u001b[0m\u001b[0;34m\u001b[0m\u001b[0m\n\u001b[0m\u001b[1;32m   1057\u001b[0m         \u001b[0msubmission_id\u001b[0m \u001b[0;34m=\u001b[0m \u001b[0mcreate\u001b[0m\u001b[0;34m[\u001b[0m\u001b[0;34m'data'\u001b[0m\u001b[0;34m]\u001b[0m\u001b[0;34m[\u001b[0m\u001b[0;34m'create_submission'\u001b[0m\u001b[0;34m]\u001b[0m\u001b[0;34m[\u001b[0m\u001b[0;34m'id'\u001b[0m\u001b[0;34m]\u001b[0m\u001b[0;34m\u001b[0m\u001b[0;34m\u001b[0m\u001b[0m\n\u001b[1;32m   1058\u001b[0m         \u001b[0;32mreturn\u001b[0m \u001b[0msubmission_id\u001b[0m\u001b[0;34m\u001b[0m\u001b[0;34m\u001b[0m\u001b[0m\n",
      "\u001b[0;32m/usr/local/lib/python3.8/site-packages/numerapi/base_api.py\u001b[0m in \u001b[0;36mraw_query\u001b[0;34m(self, query, variables, authorization)\u001b[0m\n\u001b[1;32m    118\u001b[0m             \u001b[0merr\u001b[0m \u001b[0;34m=\u001b[0m \u001b[0mself\u001b[0m\u001b[0;34m.\u001b[0m\u001b[0m_handle_call_error\u001b[0m\u001b[0;34m(\u001b[0m\u001b[0mresult\u001b[0m\u001b[0;34m[\u001b[0m\u001b[0;34m'errors'\u001b[0m\u001b[0;34m]\u001b[0m\u001b[0;34m)\u001b[0m\u001b[0;34m\u001b[0m\u001b[0;34m\u001b[0m\u001b[0m\n\u001b[1;32m    119\u001b[0m             \u001b[0;31m# fail!\u001b[0m\u001b[0;34m\u001b[0m\u001b[0;34m\u001b[0m\u001b[0;34m\u001b[0m\u001b[0m\n\u001b[0;32m--> 120\u001b[0;31m             \u001b[0;32mraise\u001b[0m \u001b[0mValueError\u001b[0m\u001b[0;34m(\u001b[0m\u001b[0merr\u001b[0m\u001b[0;34m)\u001b[0m\u001b[0;34m\u001b[0m\u001b[0;34m\u001b[0m\u001b[0m\n\u001b[0m\u001b[1;32m    121\u001b[0m         \u001b[0;32mreturn\u001b[0m \u001b[0mresult\u001b[0m\u001b[0;34m\u001b[0m\u001b[0;34m\u001b[0m\u001b[0m\n\u001b[1;32m    122\u001b[0m \u001b[0;34m\u001b[0m\u001b[0m\n",
      "\u001b[0;31mValueError\u001b[0m: Can't update submission after deadline if previous submission was on time"
     ]
    }
   ],
   "source": [
    "# Upload predictions to Numerai\n",
    "napi.upload_predictions(\"submission.csv\")"
   ]
  },
  {
   "cell_type": "code",
   "execution_count": null,
   "id": "extended-compilation",
   "metadata": {},
   "outputs": [],
   "source": [
    "print(\"Submission File:\")\n",
    "test[[\"id\", \"prediction\"]].head(2)"
   ]
  },
  {
   "cell_type": "code",
   "execution_count": null,
   "id": "designed-consumption",
   "metadata": {},
   "outputs": [],
   "source": []
  }
 ],
 "metadata": {
  "kernelspec": {
   "name": "python395jvsc74a57bd04cd7ab41f5fca4b9b44701077e38c5ffd31fe66a6cab21e0214b68d958d0e462",
   "display_name": "Python 3.9.5 64-bit"
  },
  "metadata": {
   "interpreter": {
    "hash": "aee8b7b246df8f9039afb4144a1f6fd8d2ca17a180786b69acc140d282b71a49"
   }
  }
 },
 "nbformat": 4,
 "nbformat_minor": 5
}