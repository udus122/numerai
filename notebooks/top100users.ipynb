{
 "metadata": {
  "language_info": {
   "codemirror_mode": {
    "name": "ipython",
    "version": 3
   },
   "file_extension": ".py",
   "mimetype": "text/x-python",
   "name": "python",
   "nbconvert_exporter": "python",
   "pygments_lexer": "ipython3",
   "version": "3.9.5"
  },
  "orig_nbformat": 2,
  "kernelspec": {
   "name": "python395jvsc74a57bd04cd7ab41f5fca4b9b44701077e38c5ffd31fe66a6cab21e0214b68d958d0e462",
   "display_name": "Python"
  }
 },
 "nbformat": 4,
 "nbformat_minor": 2,
 "cells": [
  {
   "source": [
    "# top100users.ipynb"
   ],
   "cell_type": "markdown",
   "metadata": {}
  },
  {
   "source": [
    "## Overview\n",
    "\n",
    "各Roundの最終日におけるTOP100ユーザーのRound CorrelationおよびMMCを取得する"
   ],
   "cell_type": "markdown",
   "metadata": {}
  },
  {
   "cell_type": "code",
   "execution_count": 14,
   "metadata": {
    "tags": []
   },
   "outputs": [
    {
     "output_type": "stream",
     "name": "stdout",
     "text": [
      "[{'correlation': -0.03525179016682728, 'correlationWithMetamodel': 0.7135790127905146, 'date': datetime.datetime(2021, 5, 6, 0, 0, tzinfo=tzutc()), 'fnc': -0.007162022708997658, 'mmc': -0.0017249707294844348, 'roundNumber': 262}, {'correlation': -0.009059782743858965, 'correlationWithMetamodel': 0.7135819380873161, 'date': datetime.datetime(2021, 5, 7, 0, 0, tzinfo=tzutc()), 'fnc': 0.0055900312423248395, 'mmc': 0.006881939234181801, 'roundNumber': 262}, {'correlation': 0.010730407797374678, 'correlationWithMetamodel': 0.713581904844525, 'date': datetime.datetime(2021, 5, 8, 0, 0, tzinfo=tzutc()), 'fnc': 0.014977448243110265, 'mmc': 0.008829191548140205, 'roundNumber': 262}, {'correlation': 0.0207157416061003, 'correlationWithMetamodel': 0.713581904844525, 'date': datetime.datetime(2021, 5, 11, 0, 0, tzinfo=tzutc()), 'fnc': 0.010412666019191582, 'mmc': 0.005459577576317743, 'roundNumber': 262}, {'correlation': 0.006633235148800417, 'correlationWithMetamodel': 0.713581904844525, 'date': datetime.datetime(2021, 5, 12, 0, 0, tzinfo=tzutc()), 'fnc': 0.013827478428369493, 'mmc': 0.00630873691331693, 'roundNumber': 262}, {'correlation': 0.0052420475139912295, 'correlationWithMetamodel': 0.713581904844525, 'date': datetime.datetime(2021, 5, 13, 0, 0, tzinfo=tzutc()), 'fnc': 0.01020703092854181, 'mmc': -0.004070979971002006, 'roundNumber': 262}, {'correlation': -0.0011271470363862055, 'correlationWithMetamodel': 0.713581904844525, 'date': datetime.datetime(2021, 5, 14, 0, 0, tzinfo=tzutc()), 'fnc': 0.006974878215849848, 'mmc': -0.0029189400563853466, 'roundNumber': 262}, {'correlation': 0.006466708690307093, 'correlationWithMetamodel': 0.713581904844525, 'date': datetime.datetime(2021, 5, 15, 0, 0, tzinfo=tzutc()), 'fnc': 0.007626125284903926, 'mmc': -0.0005153839538385601, 'roundNumber': 262}]\n",
      "[-0.03525179016682728]\n",
      "[{'correlation': -0.002800014704248664, 'correlationWithMetamodel': 0.5462256727026826, 'date': datetime.datetime(2021, 5, 6, 0, 0, tzinfo=tzutc()), 'fnc': 0.0005635720115632397, 'mmc': 0.017463624731825743, 'roundNumber': 262}, {'correlation': 0.01930261727252063, 'correlationWithMetamodel': 0.5462324045219935, 'date': datetime.datetime(2021, 5, 7, 0, 0, tzinfo=tzutc()), 'fnc': -0.007382983364822016, 'mmc': 0.025610021741620585, 'roundNumber': 262}, {'correlation': 0.031038627666734025, 'correlationWithMetamodel': 0.5462324500299376, 'date': datetime.datetime(2021, 5, 8, 0, 0, tzinfo=tzutc()), 'fnc': 0.0029231359668051527, 'mmc': 0.02447436661560047, 'roundNumber': 262}, {'correlation': 0.04618468931466279, 'correlationWithMetamodel': 0.5462324500299376, 'date': datetime.datetime(2021, 5, 11, 0, 0, tzinfo=tzutc()), 'fnc': 0.017279195643352625, 'mmc': 0.027707787126117735, 'roundNumber': 262}, {'correlation': 0.035156947166151635, 'correlationWithMetamodel': 0.5462324500299376, 'date': datetime.datetime(2021, 5, 12, 0, 0, tzinfo=tzutc()), 'fnc': 0.0064507401097720065, 'mmc': 0.028157182913273817, 'roundNumber': 262}, {'correlation': 0.024738596912983933, 'correlationWithMetamodel': 0.5462324500299376, 'date': datetime.datetime(2021, 5, 13, 0, 0, tzinfo=tzutc()), 'fnc': 0.0034844221331645233, 'mmc': 0.012979864938395116, 'roundNumber': 262}, {'correlation': 0.027478931695027173, 'correlationWithMetamodel': 0.5462324500299376, 'date': datetime.datetime(2021, 5, 14, 0, 0, tzinfo=tzutc()), 'fnc': -0.0008279125868986672, 'mmc': 0.019767400444627735, 'roundNumber': 262}, {'correlation': 0.04342834306922809, 'correlationWithMetamodel': 0.5462324500299376, 'date': datetime.datetime(2021, 5, 15, 0, 0, tzinfo=tzutc()), 'fnc': 0.014814534405516716, 'mmc': 0.029471777328548075, 'roundNumber': 262}]\n",
      "[-0.03525179016682728, -0.002800014704248664]\n",
      "[{'correlation': -0.0325437577629525, 'correlationWithMetamodel': 0.6731856502285146, 'date': datetime.datetime(2021, 5, 6, 0, 0, tzinfo=tzutc()), 'fnc': -0.00881074967646963, 'mmc': -0.0011366664574750161, 'roundNumber': 262}, {'correlation': -0.005938751964781086, 'correlationWithMetamodel': 0.6731876827978684, 'date': datetime.datetime(2021, 5, 7, 0, 0, tzinfo=tzutc()), 'fnc': -0.0071909704115086775, 'mmc': 0.008483739207574767, 'roundNumber': 262}, {'correlation': 0.0028797185108925378, 'correlationWithMetamodel': 0.6731875957561491, 'date': datetime.datetime(2021, 5, 8, 0, 0, tzinfo=tzutc()), 'fnc': -0.0013977535051503483, 'mmc': 0.0027172137027521577, 'roundNumber': 262}, {'correlation': 0.02833706712973287, 'correlationWithMetamodel': 0.6731875957561491, 'date': datetime.datetime(2021, 5, 11, 0, 0, tzinfo=tzutc()), 'fnc': 0.022395034517548377, 'mmc': 0.012000742146873473, 'roundNumber': 262}, {'correlation': 0.010628432298177868, 'correlationWithMetamodel': 0.6731875957561491, 'date': datetime.datetime(2021, 5, 12, 0, 0, tzinfo=tzutc()), 'fnc': 0.01330296930540654, 'mmc': 0.009340038467524465, 'roundNumber': 262}, {'correlation': 0.0281443076542619, 'correlationWithMetamodel': 0.6731875957561491, 'date': datetime.datetime(2021, 5, 13, 0, 0, tzinfo=tzutc()), 'fnc': 0.024251504582859334, 'mmc': 0.014169288218286549, 'roundNumber': 262}, {'correlation': 0.022364003511985014, 'correlationWithMetamodel': 0.6731875957561491, 'date': datetime.datetime(2021, 5, 14, 0, 0, tzinfo=tzutc()), 'fnc': 0.017932552523958232, 'mmc': 0.015422584917341707, 'roundNumber': 262}, {'correlation': 0.021670950834543946, 'correlationWithMetamodel': 0.6731875957561491, 'date': datetime.datetime(2021, 5, 15, 0, 0, tzinfo=tzutc()), 'fnc': 0.011127198746424975, 'mmc': 0.011605272888374249, 'roundNumber': 262}]\n",
      "[-0.03525179016682728, -0.002800014704248664, -0.0325437577629525]\n",
      "[{'correlation': -0.019015930032073747, 'correlationWithMetamodel': 0.6986405414583662, 'date': datetime.datetime(2021, 5, 6, 0, 0, tzinfo=tzutc()), 'fnc': -0.01646968675282237, 'mmc': 0.01025551078520274, 'roundNumber': 262}, {'correlation': -0.010813492301051508, 'correlationWithMetamodel': 0.6986449039485118, 'date': datetime.datetime(2021, 5, 7, 0, 0, tzinfo=tzutc()), 'fnc': -0.029855323696447323, 'mmc': 0.005185378934265653, 'roundNumber': 262}, {'correlation': 0.012725512040368009, 'correlationWithMetamodel': 0.6986448728646552, 'date': datetime.datetime(2021, 5, 8, 0, 0, tzinfo=tzutc()), 'fnc': -0.006248047364004017, 'mmc': 0.010366420204299754, 'roundNumber': 262}, {'correlation': 0.027842400855153125, 'correlationWithMetamodel': 0.6986448728646552, 'date': datetime.datetime(2021, 5, 11, 0, 0, tzinfo=tzutc()), 'fnc': 0.008088430132608229, 'mmc': 0.011232890105138447, 'roundNumber': 262}, {'correlation': 0.019853753458156712, 'correlationWithMetamodel': 0.6986448728646552, 'date': datetime.datetime(2021, 5, 12, 0, 0, tzinfo=tzutc()), 'fnc': 0.005175506790287836, 'mmc': 0.016526982945540874, 'roundNumber': 262}, {'correlation': 0.019432530800258297, 'correlationWithMetamodel': 0.6986448728646552, 'date': datetime.datetime(2021, 5, 13, 0, 0, tzinfo=tzutc()), 'fnc': -0.0012128113633186302, 'mmc': 0.00712299542823598, 'roundNumber': 262}, {'correlation': 0.010112182845176683, 'correlationWithMetamodel': 0.6986448728646552, 'date': datetime.datetime(2021, 5, 14, 0, 0, tzinfo=tzutc()), 'fnc': -0.006180417967670739, 'mmc': 0.005848377793422337, 'roundNumber': 262}, {'correlation': 0.017961709691653394, 'correlationWithMetamodel': 0.6986448728646552, 'date': datetime.datetime(2021, 5, 15, 0, 0, tzinfo=tzutc()), 'fnc': -0.005879982767959368, 'mmc': 0.008528686710909042, 'roundNumber': 262}]\n",
      "[-0.03525179016682728, -0.002800014704248664, -0.0325437577629525, -0.019015930032073747]\n",
      "[]\n"
     ]
    },
    {
     "output_type": "error",
     "ename": "IndexError",
     "evalue": "list index out of range",
     "traceback": [
      "\u001b[0;31m---------------------------------------------------------------------------\u001b[0m",
      "\u001b[0;31mIndexError\u001b[0m                                Traceback (most recent call last)",
      "\u001b[0;32m<ipython-input-14-3d9129d659c6>\u001b[0m in \u001b[0;36m<module>\u001b[0;34m\u001b[0m\n\u001b[1;32m     17\u001b[0m     \u001b[0msub_round\u001b[0m \u001b[0;34m=\u001b[0m \u001b[0;34m[\u001b[0m\u001b[0msub\u001b[0m\u001b[0;34m[\u001b[0m\u001b[0mi\u001b[0m\u001b[0;34m]\u001b[0m \u001b[0;32mfor\u001b[0m \u001b[0mi\u001b[0m \u001b[0;32min\u001b[0m \u001b[0mrange\u001b[0m\u001b[0;34m(\u001b[0m\u001b[0mlen\u001b[0m\u001b[0;34m(\u001b[0m\u001b[0msub\u001b[0m\u001b[0;34m)\u001b[0m\u001b[0;34m)\u001b[0m \u001b[0;32mif\u001b[0m \u001b[0msub\u001b[0m\u001b[0;34m[\u001b[0m\u001b[0mi\u001b[0m\u001b[0;34m]\u001b[0m\u001b[0;34m[\u001b[0m\u001b[0;34m\"roundNumber\"\u001b[0m\u001b[0;34m]\u001b[0m \u001b[0;34m==\u001b[0m \u001b[0mround\u001b[0m\u001b[0;34m]\u001b[0m\u001b[0;34m\u001b[0m\u001b[0;34m\u001b[0m\u001b[0m\n\u001b[1;32m     18\u001b[0m     \u001b[0mprint\u001b[0m\u001b[0;34m(\u001b[0m\u001b[0msub_round\u001b[0m\u001b[0;34m)\u001b[0m\u001b[0;34m\u001b[0m\u001b[0;34m\u001b[0m\u001b[0m\n\u001b[0;32m---> 19\u001b[0;31m     \u001b[0msubmission_corr\u001b[0m\u001b[0;34m.\u001b[0m\u001b[0mappend\u001b[0m\u001b[0;34m(\u001b[0m\u001b[0msub_round\u001b[0m\u001b[0;34m[\u001b[0m\u001b[0;36m0\u001b[0m\u001b[0;34m]\u001b[0m\u001b[0;34m[\u001b[0m\u001b[0;34m\"correlation\"\u001b[0m\u001b[0;34m]\u001b[0m\u001b[0;34m)\u001b[0m\u001b[0;34m\u001b[0m\u001b[0;34m\u001b[0m\u001b[0m\n\u001b[0m\u001b[1;32m     20\u001b[0m     \u001b[0mprint\u001b[0m\u001b[0;34m(\u001b[0m\u001b[0msubmission_corr\u001b[0m\u001b[0;34m)\u001b[0m\u001b[0;34m\u001b[0m\u001b[0;34m\u001b[0m\u001b[0m\n\u001b[1;32m     21\u001b[0m     \u001b[0mmmc\u001b[0m\u001b[0;34m.\u001b[0m\u001b[0mappend\u001b[0m\u001b[0;34m(\u001b[0m\u001b[0msub_round\u001b[0m\u001b[0;34m[\u001b[0m\u001b[0;36m0\u001b[0m\u001b[0;34m]\u001b[0m\u001b[0;34m[\u001b[0m\u001b[0;34m\"mmc\"\u001b[0m\u001b[0;34m]\u001b[0m\u001b[0;34m)\u001b[0m\u001b[0;34m\u001b[0m\u001b[0;34m\u001b[0m\u001b[0m\n",
      "\u001b[0;31mIndexError\u001b[0m: list index out of range"
     ]
    }
   ],
   "source": [
    "import time\n",
    "import numerapi\n",
    "import matplotlib.pyplot as plt\n",
    "%matplotlib inline\n",
    "\n",
    "round = 262\n",
    "api = numerapi.NumerAPI()\n",
    "\n",
    "LB = api.get_leaderboard(limit=100)  # TOP100ユーザー\n",
    "users = [LB[i][\"username\"] for i in range(len(LB))]\n",
    "\n",
    "submission_corr = []\n",
    "mmc = []\n",
    "\n",
    "for user in users:\n",
    "    sub = api.daily_submissions_performances(username=user)\n",
    "    sub_round = [sub[i] for i in range(len(sub)) if sub[i][\"roundNumber\"] == round]\n",
    "    if not sub_round:\n",
    "        continue\n",
    "    submission_corr.append(sub_round[0][\"correlation\"])\n",
    "    print(submission_corr)\n",
    "    mmc.append(sub_round[0][\"mmc\"])\n",
    "    time.sleep(0.5)\n",
    "\n",
    "print(submission_corr)\n",
    "# plt.hist(submission_corr)\n",
    "# plt.hist(mmc)\n",
    "# plt.show()"
   ]
  },
  {
   "cell_type": "code",
   "execution_count": null,
   "metadata": {},
   "outputs": [],
   "source": []
  }
 ]
}