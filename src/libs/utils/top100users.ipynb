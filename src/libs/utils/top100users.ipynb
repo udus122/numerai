{
 "metadata": {
  "language_info": {
   "codemirror_mode": {
    "name": "ipython",
    "version": 3
   },
   "file_extension": ".py",
   "mimetype": "text/x-python",
   "name": "python",
   "nbconvert_exporter": "python",
   "pygments_lexer": "ipython3",
   "version": "3.9.1-final"
  },
  "orig_nbformat": 2,
  "kernelspec": {
   "name": "python3",
   "display_name": "Python 3",
   "language": "python"
  }
 },
 "nbformat": 4,
 "nbformat_minor": 2,
 "cells": [
  {
   "cell_type": "code",
   "execution_count": null,
   "metadata": {},
   "outputs": [],
   "source": [
    "# top100users.ipynb"
   ]
  },
  {
   "cell_type": "code",
   "execution_count": null,
   "metadata": {},
   "outputs": [],
   "source": [
    "## Overview\n",
    "\n",
    "各Roundの最終日におけるTOP100ユーザーのRound CorrelationおよびMMCを取得する"
   ]
  },
  {
   "cell_type": "code",
   "execution_count": 5,
   "metadata": {},
   "outputs": [
    {
     "output_type": "stream",
     "name": "stdout",
     "text": [
      "[-0.042926271327151856, None, -0.016636740577277532, -0.05472886718482031, None, -0.03361264720500362, None, None, -0.010205884372214027, -0.035628317261660936, -0.0345363843607387, None, None, None, None, None, None, None, -0.017092438150842108, None, -0.018667527202614928, None, -0.02156608140977696, -0.01818207486411675, None, -0.012092106850237516, None, None, None, -0.015529308409733952, None, -0.038258121839567685, -0.037991668397960025, -0.03752209802402447, None, -0.024026733497643362, -0.008541913723581804, None, -0.017789713799831994, None, None, -0.00877880374922654, None, None, None, None, None, -0.019016739074021762, None, None, None, -0.0385429447823562, None, None, None, None, -0.046337832124583346, None, None, -0.019049842445941427, -0.04429298134990438, None, None, -0.03302711935486394, -0.015739887951916522, None, -0.01486561450509034, None, None, None, -0.01546893780949895, None, None, None, None, None, None, None, None, None, None, -0.03688241841519538, -0.019390730637125667, -0.04180477501026669, None, None, None, -0.03549293786493744, -0.03136831512843882, None, None, None, None, 0.008803583440923636, None, -0.007238731559079751, None, None, -0.016680559491552692, None]\n"
     ]
    }
   ],
   "source": [
    "import time\n",
    "import numerapi\n",
    "import matplotlib.pyplot as plt\n",
    "%matplotlib inline\n",
    "\n",
    "round = 208\n",
    "api = numerapi.NumerAPI()\n",
    "\n",
    "LB = api.get_leaderboard(limit=100)  # TOP100ユーザー\n",
    "users = [LB[i][\"username\"] for i in range(len(LB))]\n",
    "\n",
    "submission_corr = []\n",
    "mmc = []\n",
    "\n",
    "for user in users:\n",
    "    sub = api.daily_submissions_performances(username=user)\n",
    "    sub_round = [sub[i] for i in range(len(sub)) if sub[i][\"roundNumber\"] == round]\n",
    "    submission_corr.append(sub_round[0][\"correlation\"])\n",
    "    mmc.append(sub_round[0][\"mmc\"])\n",
    "    time.sleep(0.5)\n",
    "\n",
    "print(submission_corr)\n",
    "# plt.hist(submission_corr)\n",
    "# plt.hist(mmc)\n",
    "# plt.show()"
   ]
  },
  {
   "cell_type": "code",
   "execution_count": null,
   "metadata": {},
   "outputs": [],
   "source": []
  }
 ]
}